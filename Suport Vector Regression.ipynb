{
  "nbformat": 4,
  "nbformat_minor": 0,
  "metadata": {
    "colab": {
      "name": "Untitled4.ipynb",
      "provenance": [],
      "authorship_tag": "ABX9TyMWK+bXUM1rtynFjTtE5fn1",
      "include_colab_link": true
    },
    "kernelspec": {
      "name": "python3",
      "display_name": "Python 3"
    },
    "language_info": {
      "name": "python"
    }
  },
  "cells": [
    {
      "cell_type": "markdown",
      "metadata": {
        "id": "view-in-github",
        "colab_type": "text"
      },
      "source": [
        "<a href=\"https://colab.research.google.com/github/nickync/ML/blob/Regression/Suport%20Vector%20Regression.ipynb\" target=\"_parent\"><img src=\"https://colab.research.google.com/assets/colab-badge.svg\" alt=\"Open In Colab\"/></a>"
      ]
    },
    {
      "cell_type": "markdown",
      "metadata": {
        "id": "1HHBeuXyrSTA"
      },
      "source": [
        "# Import libraries"
      ]
    },
    {
      "cell_type": "code",
      "metadata": {
        "id": "PV-uvGiorXfw"
      },
      "source": [
        "import numpy as np\n",
        "import pandas as pd\n",
        "import matplotlib.pyplot as plt"
      ],
      "execution_count": 1,
      "outputs": []
    },
    {
      "cell_type": "markdown",
      "metadata": {
        "id": "Fb0Lbslircpr"
      },
      "source": [
        "#Load dataset"
      ]
    },
    {
      "cell_type": "code",
      "metadata": {
        "id": "-h4diVwSrgHo"
      },
      "source": [
        "dataset = pd.read_csv('winequality-red.csv')\n",
        "X = dataset.iloc[:, :-1].values\n",
        "y = dataset.iloc[:, -1].values"
      ],
      "execution_count": 2,
      "outputs": []
    },
    {
      "cell_type": "markdown",
      "metadata": {
        "id": "3EFRogCFtOCc"
      },
      "source": [
        "#Splitting data"
      ]
    },
    {
      "cell_type": "code",
      "metadata": {
        "id": "Zm_CZL-ytP9t"
      },
      "source": [
        "from sklearn.model_selection import train_test_split\n",
        "X_train, X_test, y_train, y_test = train_test_split(X, y, test_size = 0.2, random_state = 0)"
      ],
      "execution_count": 3,
      "outputs": []
    },
    {
      "cell_type": "markdown",
      "metadata": {
        "id": "kuICtHoVr0Gd"
      },
      "source": [
        "#Training the SVR model"
      ]
    },
    {
      "cell_type": "code",
      "metadata": {
        "colab": {
          "base_uri": "https://localhost:8080/"
        },
        "id": "r7b0n87HsiLh",
        "outputId": "a90830df-d826-49d4-c5e0-3a516860f0dc"
      },
      "source": [
        "from sklearn.svm import SVR\n",
        "regression = SVR(kernel = 'rbf')\n",
        "regression.fit(X_train, y_train)"
      ],
      "execution_count": 4,
      "outputs": [
        {
          "output_type": "execute_result",
          "data": {
            "text/plain": [
              "SVR(C=1.0, cache_size=200, coef0=0.0, degree=3, epsilon=0.1, gamma='scale',\n",
              "    kernel='rbf', max_iter=-1, shrinking=True, tol=0.001, verbose=False)"
            ]
          },
          "metadata": {},
          "execution_count": 4
        }
      ]
    },
    {
      "cell_type": "markdown",
      "metadata": {
        "id": "20BV8i2MtqDm"
      },
      "source": [
        "#Predicting on test set"
      ]
    },
    {
      "cell_type": "code",
      "metadata": {
        "colab": {
          "base_uri": "https://localhost:8080/"
        },
        "id": "SlU7HpzOtsNW",
        "outputId": "1f8ae8a4-2ee1-489a-dac0-5e842e20da0d"
      },
      "source": [
        "y_pred = regression.predict(X_test)\n",
        "np.set_printoptions(precision=0)\n",
        "\n",
        "#print(np.concatenate(y_pred.reshape(len(y_pred),1), y_test.reshape(len(y_test),1)))\n",
        "print(np.concatenate((y_pred.reshape(len(y_pred),1),y_test.reshape(len(y_test),1)),1))"
      ],
      "execution_count": 32,
      "outputs": [
        {
          "output_type": "stream",
          "name": "stdout",
          "text": [
            "[[6. 6.]\n",
            " [6. 5.]\n",
            " [6. 7.]\n",
            " [6. 6.]\n",
            " [6. 5.]\n",
            " [5. 6.]\n",
            " [6. 5.]\n",
            " [6. 6.]\n",
            " [6. 4.]\n",
            " [5. 5.]\n",
            " [6. 5.]\n",
            " [6. 5.]\n",
            " [6. 6.]\n",
            " [5. 5.]\n",
            " [6. 6.]\n",
            " [6. 6.]\n",
            " [6. 7.]\n",
            " [6. 5.]\n",
            " [6. 5.]\n",
            " [6. 4.]\n",
            " [6. 7.]\n",
            " [6. 6.]\n",
            " [6. 6.]\n",
            " [5. 4.]\n",
            " [6. 6.]\n",
            " [5. 5.]\n",
            " [5. 5.]\n",
            " [6. 7.]\n",
            " [5. 5.]\n",
            " [6. 6.]\n",
            " [6. 5.]\n",
            " [6. 6.]\n",
            " [6. 5.]\n",
            " [6. 6.]\n",
            " [6. 7.]\n",
            " [6. 7.]\n",
            " [5. 5.]\n",
            " [6. 6.]\n",
            " [6. 6.]\n",
            " [6. 7.]\n",
            " [6. 5.]\n",
            " [6. 7.]\n",
            " [6. 6.]\n",
            " [6. 6.]\n",
            " [6. 5.]\n",
            " [5. 5.]\n",
            " [6. 6.]\n",
            " [5. 6.]\n",
            " [6. 6.]\n",
            " [6. 5.]\n",
            " [6. 5.]\n",
            " [5. 5.]\n",
            " [6. 6.]\n",
            " [6. 6.]\n",
            " [6. 6.]\n",
            " [5. 5.]\n",
            " [5. 5.]\n",
            " [6. 5.]\n",
            " [6. 6.]\n",
            " [6. 5.]\n",
            " [6. 5.]\n",
            " [6. 6.]\n",
            " [6. 6.]\n",
            " [6. 6.]\n",
            " [6. 5.]\n",
            " [6. 6.]\n",
            " [6. 5.]\n",
            " [6. 5.]\n",
            " [6. 6.]\n",
            " [6. 6.]\n",
            " [5. 6.]\n",
            " [5. 6.]\n",
            " [6. 4.]\n",
            " [5. 6.]\n",
            " [6. 5.]\n",
            " [6. 6.]\n",
            " [6. 5.]\n",
            " [5. 5.]\n",
            " [5. 5.]\n",
            " [6. 6.]\n",
            " [5. 6.]\n",
            " [5. 5.]\n",
            " [6. 6.]\n",
            " [6. 6.]\n",
            " [6. 6.]\n",
            " [6. 5.]\n",
            " [5. 6.]\n",
            " [6. 5.]\n",
            " [6. 5.]\n",
            " [6. 5.]\n",
            " [5. 5.]\n",
            " [5. 6.]\n",
            " [6. 4.]\n",
            " [6. 5.]\n",
            " [6. 7.]\n",
            " [5. 6.]\n",
            " [6. 6.]\n",
            " [6. 5.]\n",
            " [6. 6.]\n",
            " [6. 5.]\n",
            " [6. 8.]\n",
            " [6. 6.]\n",
            " [6. 6.]\n",
            " [6. 6.]\n",
            " [6. 5.]\n",
            " [6. 5.]\n",
            " [6. 5.]\n",
            " [6. 5.]\n",
            " [6. 7.]\n",
            " [5. 5.]\n",
            " [6. 6.]\n",
            " [6. 5.]\n",
            " [6. 7.]\n",
            " [5. 5.]\n",
            " [6. 6.]\n",
            " [6. 6.]\n",
            " [6. 6.]\n",
            " [6. 7.]\n",
            " [6. 6.]\n",
            " [6. 6.]\n",
            " [5. 5.]\n",
            " [6. 7.]\n",
            " [6. 5.]\n",
            " [5. 5.]\n",
            " [5. 6.]\n",
            " [6. 6.]\n",
            " [5. 5.]\n",
            " [5. 5.]\n",
            " [6. 5.]\n",
            " [6. 6.]\n",
            " [5. 6.]\n",
            " [6. 6.]\n",
            " [6. 6.]\n",
            " [6. 6.]\n",
            " [6. 6.]\n",
            " [5. 5.]\n",
            " [6. 6.]\n",
            " [5. 5.]\n",
            " [6. 8.]\n",
            " [6. 5.]\n",
            " [6. 6.]\n",
            " [5. 5.]\n",
            " [6. 6.]\n",
            " [6. 5.]\n",
            " [6. 4.]\n",
            " [6. 6.]\n",
            " [6. 7.]\n",
            " [6. 6.]\n",
            " [6. 5.]\n",
            " [6. 6.]\n",
            " [6. 6.]\n",
            " [6. 5.]\n",
            " [6. 5.]\n",
            " [6. 5.]\n",
            " [6. 6.]\n",
            " [6. 6.]\n",
            " [6. 3.]\n",
            " [6. 6.]\n",
            " [6. 6.]\n",
            " [6. 6.]\n",
            " [6. 6.]\n",
            " [6. 6.]\n",
            " [6. 6.]\n",
            " [5. 6.]\n",
            " [6. 5.]\n",
            " [6. 5.]\n",
            " [6. 6.]\n",
            " [6. 6.]\n",
            " [6. 6.]\n",
            " [6. 6.]\n",
            " [5. 5.]\n",
            " [5. 5.]\n",
            " [6. 5.]\n",
            " [6. 8.]\n",
            " [6. 5.]\n",
            " [6. 6.]\n",
            " [6. 6.]\n",
            " [6. 7.]\n",
            " [6. 7.]\n",
            " [5. 5.]\n",
            " [5. 5.]\n",
            " [6. 7.]\n",
            " [6. 5.]\n",
            " [6. 6.]\n",
            " [6. 6.]\n",
            " [5. 4.]\n",
            " [6. 5.]\n",
            " [6. 6.]\n",
            " [5. 5.]\n",
            " [6. 5.]\n",
            " [6. 6.]\n",
            " [5. 5.]\n",
            " [6. 6.]\n",
            " [6. 6.]\n",
            " [5. 5.]\n",
            " [5. 5.]\n",
            " [6. 5.]\n",
            " [6. 5.]\n",
            " [6. 5.]\n",
            " [5. 5.]\n",
            " [5. 5.]\n",
            " [6. 6.]\n",
            " [5. 6.]\n",
            " [6. 5.]\n",
            " [6. 6.]\n",
            " [5. 6.]\n",
            " [5. 5.]\n",
            " [6. 6.]\n",
            " [6. 7.]\n",
            " [5. 6.]\n",
            " [6. 6.]\n",
            " [5. 6.]\n",
            " [5. 5.]\n",
            " [6. 5.]\n",
            " [6. 5.]\n",
            " [6. 6.]\n",
            " [6. 5.]\n",
            " [6. 6.]\n",
            " [6. 6.]\n",
            " [5. 5.]\n",
            " [6. 5.]\n",
            " [6. 5.]\n",
            " [6. 6.]\n",
            " [6. 6.]\n",
            " [6. 5.]\n",
            " [5. 6.]\n",
            " [6. 6.]\n",
            " [6. 6.]\n",
            " [6. 3.]\n",
            " [6. 6.]\n",
            " [5. 5.]\n",
            " [6. 5.]\n",
            " [6. 7.]\n",
            " [6. 6.]\n",
            " [6. 7.]\n",
            " [6. 6.]\n",
            " [6. 6.]\n",
            " [6. 7.]\n",
            " [6. 7.]\n",
            " [6. 6.]\n",
            " [6. 5.]\n",
            " [5. 6.]\n",
            " [6. 5.]\n",
            " [6. 5.]\n",
            " [6. 6.]\n",
            " [5. 5.]\n",
            " [6. 5.]\n",
            " [5. 5.]\n",
            " [5. 5.]\n",
            " [5. 6.]\n",
            " [5. 5.]\n",
            " [6. 5.]\n",
            " [5. 5.]\n",
            " [6. 6.]\n",
            " [6. 6.]\n",
            " [5. 5.]\n",
            " [5. 5.]\n",
            " [6. 5.]\n",
            " [5. 6.]\n",
            " [6. 7.]\n",
            " [6. 5.]\n",
            " [6. 6.]\n",
            " [6. 5.]\n",
            " [6. 6.]\n",
            " [6. 5.]\n",
            " [6. 4.]\n",
            " [6. 5.]\n",
            " [5. 5.]\n",
            " [6. 6.]\n",
            " [5. 7.]\n",
            " [6. 6.]\n",
            " [6. 5.]\n",
            " [6. 5.]\n",
            " [5. 4.]\n",
            " [6. 5.]\n",
            " [6. 6.]\n",
            " [6. 7.]\n",
            " [5. 6.]\n",
            " [6. 6.]\n",
            " [6. 7.]\n",
            " [6. 5.]\n",
            " [6. 7.]\n",
            " [6. 5.]\n",
            " [6. 6.]\n",
            " [6. 6.]\n",
            " [5. 5.]\n",
            " [6. 5.]\n",
            " [6. 5.]\n",
            " [6. 6.]\n",
            " [6. 6.]\n",
            " [6. 5.]\n",
            " [6. 6.]\n",
            " [6. 6.]\n",
            " [6. 6.]\n",
            " [5. 5.]\n",
            " [6. 6.]\n",
            " [5. 6.]\n",
            " [6. 5.]\n",
            " [5. 6.]\n",
            " [5. 5.]\n",
            " [6. 6.]\n",
            " [6. 5.]\n",
            " [6. 6.]\n",
            " [6. 6.]\n",
            " [6. 6.]\n",
            " [6. 6.]\n",
            " [6. 5.]\n",
            " [6. 5.]\n",
            " [5. 6.]\n",
            " [6. 5.]\n",
            " [5. 5.]\n",
            " [6. 6.]\n",
            " [6. 5.]\n",
            " [6. 5.]\n",
            " [5. 5.]\n",
            " [6. 6.]\n",
            " [6. 4.]\n",
            " [6. 5.]\n",
            " [6. 4.]\n",
            " [6. 6.]]\n"
          ]
        }
      ]
    },
    {
      "cell_type": "markdown",
      "metadata": {
        "id": "KgH3l7pA0xPy"
      },
      "source": [
        "#r2 score"
      ]
    },
    {
      "cell_type": "code",
      "metadata": {
        "colab": {
          "base_uri": "https://localhost:8080/"
        },
        "id": "iZ_zpKud0y-P",
        "outputId": "78d19111-7d07-4374-a5a6-9c27766cb780"
      },
      "source": [
        "from sklearn.metrics import r2_score\n",
        "r2_score(y_test, y_pred)"
      ],
      "execution_count": 16,
      "outputs": [
        {
          "output_type": "execute_result",
          "data": {
            "text/plain": [
              "0.17154992369458666"
            ]
          },
          "metadata": {},
          "execution_count": 16
        }
      ]
    },
    {
      "cell_type": "markdown",
      "metadata": {
        "id": "lUvY98PK3ceL"
      },
      "source": [
        "#Evaluation"
      ]
    },
    {
      "cell_type": "code",
      "metadata": {
        "colab": {
          "base_uri": "https://localhost:8080/"
        },
        "id": "1qbbkLI93e3O",
        "outputId": "222af1e2-4ac6-429e-8f25-d5e94d6b8245"
      },
      "source": [
        "from sklearn import metrics\n",
        "mae = metrics.mean_absolute_error(y_test, y_pred)\n",
        "mse = metrics.mean_squared_error(y_test, y_pred)\n",
        "r2 = metrics.r2_score(y_test, y_pred)\n",
        "\n",
        "print('The stats of the regression')\n",
        "print('***************************')\n",
        "print('MAE : {}'.format(mae))\n",
        "print('MSE : {}'.format(mse))\n",
        "print('R2 score : {}'.format(r2))"
      ],
      "execution_count": 38,
      "outputs": [
        {
          "output_type": "stream",
          "name": "stdout",
          "text": [
            "The stats of the regression\n",
            "***************************\n",
            "MAE : 0.5187217576422842\n",
            "MSE : 0.4742553073537435\n",
            "R2 score : 0.17154992369458666\n"
          ]
        }
      ]
    }
  ]
}