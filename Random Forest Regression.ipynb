{
  "nbformat": 4,
  "nbformat_minor": 0,
  "metadata": {
    "colab": {
      "name": "Untitled6.ipynb",
      "provenance": [],
      "authorship_tag": "ABX9TyMix03Q55Ba5EvYTMWXU1Xh",
      "include_colab_link": true
    },
    "kernelspec": {
      "name": "python3",
      "display_name": "Python 3"
    },
    "language_info": {
      "name": "python"
    }
  },
  "cells": [
    {
      "cell_type": "markdown",
      "metadata": {
        "id": "view-in-github",
        "colab_type": "text"
      },
      "source": [
        "<a href=\"https://colab.research.google.com/github/nickync/ML/blob/Regression/Random%20Forest%20Regression.ipynb\" target=\"_parent\"><img src=\"https://colab.research.google.com/assets/colab-badge.svg\" alt=\"Open In Colab\"/></a>"
      ]
    },
    {
      "cell_type": "markdown",
      "metadata": {
        "id": "006L6f9U9IN9"
      },
      "source": [
        "#Import libraries"
      ]
    },
    {
      "cell_type": "code",
      "metadata": {
        "id": "z2ebUa7l9KKC"
      },
      "source": [
        "import numpy as np\n",
        "import pandas as pd\n",
        "import matplotlib.pyplot as plt"
      ],
      "execution_count": 1,
      "outputs": []
    },
    {
      "cell_type": "markdown",
      "metadata": {
        "id": "mUyLZD9U9PhR"
      },
      "source": [
        "#Load dataset"
      ]
    },
    {
      "cell_type": "code",
      "metadata": {
        "id": "X8o24X9r9Q32"
      },
      "source": [
        "dataset = pd.read_csv('winequality-red.csv')\n",
        "X = dataset.iloc[:, :-1].values\n",
        "y = dataset.iloc[:, -1].values"
      ],
      "execution_count": 2,
      "outputs": []
    },
    {
      "cell_type": "markdown",
      "metadata": {
        "id": "6nzL2i1j9wCt"
      },
      "source": [
        "#Splitting the dataset"
      ]
    },
    {
      "cell_type": "code",
      "metadata": {
        "id": "aweVKhry9xe1"
      },
      "source": [
        "from sklearn.model_selection import train_test_split\n",
        "X_train, X_test, y_train, y_test = train_test_split(X, y, test_size = 0.2, random_state = 0)"
      ],
      "execution_count": 3,
      "outputs": []
    },
    {
      "cell_type": "markdown",
      "metadata": {
        "id": "3pZgWcw598wC"
      },
      "source": [
        "# Train the Random Forest Regression"
      ]
    },
    {
      "cell_type": "code",
      "metadata": {
        "colab": {
          "base_uri": "https://localhost:8080/"
        },
        "id": "Ga-e54o4-G_d",
        "outputId": "9251e8af-1d2d-4ca9-dfe7-3ba53636bb1b"
      },
      "source": [
        "from sklearn.ensemble import RandomForestRegressor\n",
        "regression = RandomForestRegressor(n_estimators = 5, random_state = 0)\n",
        "regression.fit(X_train, y_train)"
      ],
      "execution_count": 4,
      "outputs": [
        {
          "output_type": "execute_result",
          "data": {
            "text/plain": [
              "RandomForestRegressor(bootstrap=True, ccp_alpha=0.0, criterion='mse',\n",
              "                      max_depth=None, max_features='auto', max_leaf_nodes=None,\n",
              "                      max_samples=None, min_impurity_decrease=0.0,\n",
              "                      min_impurity_split=None, min_samples_leaf=1,\n",
              "                      min_samples_split=2, min_weight_fraction_leaf=0.0,\n",
              "                      n_estimators=5, n_jobs=None, oob_score=False,\n",
              "                      random_state=0, verbose=0, warm_start=False)"
            ]
          },
          "metadata": {},
          "execution_count": 4
        }
      ]
    },
    {
      "cell_type": "markdown",
      "metadata": {
        "id": "8o8rqiwq-oO9"
      },
      "source": [
        "#Predict test set"
      ]
    },
    {
      "cell_type": "code",
      "metadata": {
        "colab": {
          "base_uri": "https://localhost:8080/"
        },
        "id": "ad2-WqVU-q5k",
        "outputId": "55601166-9430-4ad7-b99a-9ec95f871869"
      },
      "source": [
        "y_pred = regression.predict(X_test)\n",
        "np.set_printoptions(precision=0)\n",
        "print(np.concatenate((y_test.reshape(len(y_test),1), y_pred.reshape(len(y_pred),1)),1))"
      ],
      "execution_count": 9,
      "outputs": [
        {
          "output_type": "stream",
          "name": "stdout",
          "text": [
            "[[6. 6.]\n",
            " [5. 5.]\n",
            " [7. 7.]\n",
            " [6. 5.]\n",
            " [5. 5.]\n",
            " [6. 6.]\n",
            " [5. 5.]\n",
            " [6. 6.]\n",
            " [4. 4.]\n",
            " [5. 5.]\n",
            " [5. 5.]\n",
            " [5. 5.]\n",
            " [6. 6.]\n",
            " [5. 6.]\n",
            " [6. 5.]\n",
            " [6. 7.]\n",
            " [7. 7.]\n",
            " [5. 5.]\n",
            " [5. 6.]\n",
            " [4. 5.]\n",
            " [7. 6.]\n",
            " [6. 6.]\n",
            " [6. 6.]\n",
            " [4. 6.]\n",
            " [6. 6.]\n",
            " [5. 5.]\n",
            " [5. 5.]\n",
            " [7. 7.]\n",
            " [5. 5.]\n",
            " [6. 7.]\n",
            " [5. 6.]\n",
            " [6. 6.]\n",
            " [5. 6.]\n",
            " [6. 5.]\n",
            " [7. 7.]\n",
            " [7. 7.]\n",
            " [5. 5.]\n",
            " [6. 5.]\n",
            " [6. 6.]\n",
            " [7. 6.]\n",
            " [5. 5.]\n",
            " [7. 6.]\n",
            " [6. 7.]\n",
            " [6. 6.]\n",
            " [5. 6.]\n",
            " [5. 5.]\n",
            " [6. 5.]\n",
            " [6. 6.]\n",
            " [6. 6.]\n",
            " [5. 6.]\n",
            " [5. 5.]\n",
            " [5. 5.]\n",
            " [6. 6.]\n",
            " [6. 6.]\n",
            " [6. 6.]\n",
            " [5. 5.]\n",
            " [5. 5.]\n",
            " [5. 5.]\n",
            " [6. 7.]\n",
            " [5. 5.]\n",
            " [5. 6.]\n",
            " [6. 6.]\n",
            " [6. 6.]\n",
            " [6. 6.]\n",
            " [5. 5.]\n",
            " [6. 6.]\n",
            " [5. 5.]\n",
            " [5. 5.]\n",
            " [6. 7.]\n",
            " [6. 6.]\n",
            " [6. 6.]\n",
            " [6. 6.]\n",
            " [4. 5.]\n",
            " [6. 5.]\n",
            " [5. 6.]\n",
            " [6. 6.]\n",
            " [5. 5.]\n",
            " [5. 5.]\n",
            " [5. 5.]\n",
            " [6. 7.]\n",
            " [6. 6.]\n",
            " [5. 5.]\n",
            " [6. 6.]\n",
            " [6. 6.]\n",
            " [6. 6.]\n",
            " [5. 5.]\n",
            " [6. 5.]\n",
            " [5. 5.]\n",
            " [5. 5.]\n",
            " [5. 5.]\n",
            " [5. 5.]\n",
            " [6. 5.]\n",
            " [4. 6.]\n",
            " [5. 5.]\n",
            " [7. 6.]\n",
            " [6. 6.]\n",
            " [6. 6.]\n",
            " [5. 5.]\n",
            " [6. 5.]\n",
            " [5. 6.]\n",
            " [8. 7.]\n",
            " [6. 6.]\n",
            " [6. 6.]\n",
            " [6. 6.]\n",
            " [5. 5.]\n",
            " [5. 5.]\n",
            " [5. 5.]\n",
            " [5. 6.]\n",
            " [7. 6.]\n",
            " [5. 5.]\n",
            " [6. 6.]\n",
            " [5. 6.]\n",
            " [7. 6.]\n",
            " [5. 5.]\n",
            " [6. 6.]\n",
            " [6. 6.]\n",
            " [6. 6.]\n",
            " [7. 6.]\n",
            " [6. 6.]\n",
            " [6. 6.]\n",
            " [5. 5.]\n",
            " [7. 6.]\n",
            " [5. 5.]\n",
            " [5. 5.]\n",
            " [6. 7.]\n",
            " [6. 6.]\n",
            " [5. 5.]\n",
            " [5. 5.]\n",
            " [5. 6.]\n",
            " [6. 6.]\n",
            " [6. 5.]\n",
            " [6. 6.]\n",
            " [6. 6.]\n",
            " [6. 6.]\n",
            " [6. 6.]\n",
            " [5. 5.]\n",
            " [6. 6.]\n",
            " [5. 5.]\n",
            " [8. 7.]\n",
            " [5. 5.]\n",
            " [6. 6.]\n",
            " [5. 5.]\n",
            " [6. 5.]\n",
            " [5. 5.]\n",
            " [4. 5.]\n",
            " [6. 6.]\n",
            " [7. 6.]\n",
            " [6. 7.]\n",
            " [5. 6.]\n",
            " [6. 6.]\n",
            " [6. 6.]\n",
            " [5. 6.]\n",
            " [5. 6.]\n",
            " [5. 6.]\n",
            " [6. 6.]\n",
            " [6. 6.]\n",
            " [3. 6.]\n",
            " [6. 6.]\n",
            " [6. 6.]\n",
            " [6. 6.]\n",
            " [6. 6.]\n",
            " [6. 6.]\n",
            " [6. 7.]\n",
            " [6. 6.]\n",
            " [5. 6.]\n",
            " [5. 5.]\n",
            " [6. 6.]\n",
            " [6. 6.]\n",
            " [6. 6.]\n",
            " [6. 6.]\n",
            " [5. 6.]\n",
            " [5. 5.]\n",
            " [5. 5.]\n",
            " [8. 7.]\n",
            " [5. 5.]\n",
            " [6. 7.]\n",
            " [6. 6.]\n",
            " [7. 7.]\n",
            " [7. 7.]\n",
            " [5. 5.]\n",
            " [5. 5.]\n",
            " [7. 7.]\n",
            " [5. 6.]\n",
            " [6. 7.]\n",
            " [6. 7.]\n",
            " [4. 5.]\n",
            " [5. 5.]\n",
            " [6. 6.]\n",
            " [5. 5.]\n",
            " [5. 5.]\n",
            " [6. 6.]\n",
            " [5. 6.]\n",
            " [6. 6.]\n",
            " [6. 6.]\n",
            " [5. 5.]\n",
            " [5. 5.]\n",
            " [5. 5.]\n",
            " [5. 6.]\n",
            " [5. 6.]\n",
            " [5. 5.]\n",
            " [5. 5.]\n",
            " [6. 6.]\n",
            " [6. 6.]\n",
            " [5. 6.]\n",
            " [6. 5.]\n",
            " [6. 5.]\n",
            " [5. 5.]\n",
            " [6. 7.]\n",
            " [7. 6.]\n",
            " [6. 6.]\n",
            " [6. 6.]\n",
            " [6. 6.]\n",
            " [5. 5.]\n",
            " [5. 7.]\n",
            " [5. 5.]\n",
            " [6. 6.]\n",
            " [5. 6.]\n",
            " [6. 6.]\n",
            " [6. 6.]\n",
            " [5. 5.]\n",
            " [5. 5.]\n",
            " [5. 5.]\n",
            " [6. 6.]\n",
            " [6. 5.]\n",
            " [5. 6.]\n",
            " [6. 6.]\n",
            " [6. 6.]\n",
            " [6. 5.]\n",
            " [3. 5.]\n",
            " [6. 5.]\n",
            " [5. 5.]\n",
            " [5. 6.]\n",
            " [7. 6.]\n",
            " [6. 6.]\n",
            " [7. 7.]\n",
            " [6. 6.]\n",
            " [6. 6.]\n",
            " [7. 7.]\n",
            " [7. 7.]\n",
            " [6. 6.]\n",
            " [5. 5.]\n",
            " [6. 5.]\n",
            " [5. 5.]\n",
            " [5. 5.]\n",
            " [6. 6.]\n",
            " [5. 5.]\n",
            " [5. 6.]\n",
            " [5. 5.]\n",
            " [5. 5.]\n",
            " [6. 6.]\n",
            " [5. 5.]\n",
            " [5. 5.]\n",
            " [5. 5.]\n",
            " [6. 6.]\n",
            " [6. 5.]\n",
            " [5. 5.]\n",
            " [5. 5.]\n",
            " [5. 5.]\n",
            " [6. 5.]\n",
            " [7. 7.]\n",
            " [5. 5.]\n",
            " [6. 7.]\n",
            " [5. 5.]\n",
            " [6. 6.]\n",
            " [5. 6.]\n",
            " [4. 5.]\n",
            " [5. 5.]\n",
            " [5. 5.]\n",
            " [6. 6.]\n",
            " [7. 6.]\n",
            " [6. 5.]\n",
            " [5. 5.]\n",
            " [5. 5.]\n",
            " [4. 5.]\n",
            " [5. 6.]\n",
            " [6. 6.]\n",
            " [7. 7.]\n",
            " [6. 6.]\n",
            " [6. 6.]\n",
            " [7. 6.]\n",
            " [5. 6.]\n",
            " [7. 7.]\n",
            " [5. 5.]\n",
            " [6. 6.]\n",
            " [6. 6.]\n",
            " [5. 5.]\n",
            " [5. 6.]\n",
            " [5. 5.]\n",
            " [6. 7.]\n",
            " [6. 6.]\n",
            " [5. 5.]\n",
            " [6. 5.]\n",
            " [6. 6.]\n",
            " [6. 5.]\n",
            " [5. 5.]\n",
            " [6. 6.]\n",
            " [6. 6.]\n",
            " [5. 6.]\n",
            " [6. 6.]\n",
            " [5. 5.]\n",
            " [6. 6.]\n",
            " [5. 5.]\n",
            " [6. 6.]\n",
            " [6. 5.]\n",
            " [6. 6.]\n",
            " [6. 7.]\n",
            " [5. 6.]\n",
            " [5. 5.]\n",
            " [6. 6.]\n",
            " [5. 5.]\n",
            " [5. 6.]\n",
            " [6. 6.]\n",
            " [5. 5.]\n",
            " [5. 5.]\n",
            " [5. 5.]\n",
            " [6. 7.]\n",
            " [4. 6.]\n",
            " [5. 6.]\n",
            " [4. 4.]\n",
            " [6. 7.]]\n"
          ]
        }
      ]
    },
    {
      "cell_type": "markdown",
      "metadata": {
        "id": "_Q3tKCZn_3sW"
      },
      "source": [
        "#Stats of regression"
      ]
    },
    {
      "cell_type": "code",
      "metadata": {
        "colab": {
          "base_uri": "https://localhost:8080/"
        },
        "id": "LnM1QHYw_5qa",
        "outputId": "01c2d3d0-821d-4eb8-c7c3-9edd8d716dcc"
      },
      "source": [
        "from sklearn import metrics\n",
        "mae = metrics.mean_absolute_error(y_test, y_pred)\n",
        "mse = metrics.mean_squared_error(y_test, y_pred)\n",
        "r2 = metrics.r2_score(y_test, y_pred)\n",
        "\n",
        "print('The stats of the regression')\n",
        "print('***************************')\n",
        "print('MAE: {}'.format(mae))\n",
        "print('MSE: {}'.format(mse))\n",
        "print('R2 score: {}'.format(r2))"
      ],
      "execution_count": 13,
      "outputs": [
        {
          "output_type": "stream",
          "name": "stdout",
          "text": [
            "The stats of the regression\n",
            "***************************\n",
            "MAE: 0.41875000000000007\n",
            "MSE: 0.35725\n",
            "R2 score: 0.3759399522347321\n"
          ]
        }
      ]
    }
  ]
}