{
  "nbformat": 4,
  "nbformat_minor": 0,
  "metadata": {
    "colab": {
      "name": "Untitled2.ipynb",
      "provenance": [],
      "authorship_tag": "ABX9TyOxHwXjeg1sxZ/d+RRs927k",
      "include_colab_link": true
    },
    "kernelspec": {
      "display_name": "Python 3",
      "name": "python3"
    },
    "language_info": {
      "name": "python"
    }
  },
  "cells": [
    {
      "cell_type": "markdown",
      "metadata": {
        "id": "view-in-github",
        "colab_type": "text"
      },
      "source": [
        "<a href=\"https://colab.research.google.com/github/nickync/ML/blob/Regression/Simple%20Linear%20Regression.ipynb\" target=\"_parent\"><img src=\"https://colab.research.google.com/assets/colab-badge.svg\" alt=\"Open In Colab\"/></a>"
      ]
    },
    {
      "cell_type": "markdown",
      "metadata": {
        "id": "rMrTPWUz3oDn"
      },
      "source": [
        "#Import library"
      ]
    },
    {
      "cell_type": "code",
      "metadata": {
        "id": "nZonwUYV3qh6"
      },
      "source": [
        "import numpy as np\n",
        "import pandas as pd\n",
        "import matplotlib.pyplot as plt"
      ],
      "execution_count": null,
      "outputs": []
    },
    {
      "cell_type": "markdown",
      "metadata": {
        "id": "FYJiUKkV3v_l"
      },
      "source": [
        "#Load Dataset (train on alcohol)"
      ]
    },
    {
      "cell_type": "code",
      "metadata": {
        "id": "6M-OfW813zwM"
      },
      "source": [
        "dataset = pd.read_csv('winequality-red.csv')\n",
        "X = dataset.iloc[:, 10:11].values\n",
        "y = dataset.iloc[:, -1].values"
      ],
      "execution_count": 43,
      "outputs": []
    },
    {
      "cell_type": "markdown",
      "metadata": {
        "id": "f1Df4kC44NIq"
      },
      "source": [
        "#Splitting the dataset"
      ]
    },
    {
      "cell_type": "code",
      "metadata": {
        "id": "ohz9DNNY4VYW"
      },
      "source": [
        "from sklearn.model_selection import train_test_split\n",
        "X_train, X_test, y_train, y_test = train_test_split(X, y, test_size = 0.2, random_state = 0)"
      ],
      "execution_count": 45,
      "outputs": []
    },
    {
      "cell_type": "markdown",
      "metadata": {
        "id": "Zupb4FxP4tqu"
      },
      "source": [
        "#Feature Scaling"
      ]
    },
    {
      "cell_type": "code",
      "metadata": {
        "id": "0EB-NJje4xH0"
      },
      "source": [
        "#Not required"
      ],
      "execution_count": null,
      "outputs": []
    },
    {
      "cell_type": "markdown",
      "metadata": {
        "id": "yUaLvwX94zlx"
      },
      "source": [
        "#Train regression"
      ]
    },
    {
      "cell_type": "code",
      "metadata": {
        "colab": {
          "base_uri": "https://localhost:8080/"
        },
        "id": "7E52RCOv434m",
        "outputId": "05836617-24fe-4c0e-a987-4219eebd7687"
      },
      "source": [
        "from sklearn.linear_model import LinearRegression\n",
        "regression = LinearRegression()\n",
        "regression.fit(X_train, y_train)"
      ],
      "execution_count": 46,
      "outputs": [
        {
          "output_type": "execute_result",
          "data": {
            "text/plain": [
              "LinearRegression(copy_X=True, fit_intercept=True, n_jobs=None, normalize=False)"
            ]
          },
          "metadata": {},
          "execution_count": 46
        }
      ]
    },
    {
      "cell_type": "markdown",
      "metadata": {
        "id": "M_keB0GX5DdD"
      },
      "source": [
        "#Predicting test set "
      ]
    },
    {
      "cell_type": "markdown",
      "metadata": {
        "id": "f89Tq1UUGYf6"
      },
      "source": [
        ""
      ]
    },
    {
      "cell_type": "code",
      "metadata": {
        "colab": {
          "base_uri": "https://localhost:8080/"
        },
        "id": "7HdSUE5O5KfX",
        "outputId": "b63f9042-1cca-46e2-8d81-a9ddff20e6f4"
      },
      "source": [
        "y_pred = regression.predict(X_test)\n",
        "np.set_printoptions(precision=0)\n",
        "print(np.concatenate((y_pred.reshape(len(y_pred), 1), y_test.reshape(len(y_test),1)),1))"
      ],
      "execution_count": 47,
      "outputs": [
        {
          "output_type": "stream",
          "name": "stdout",
          "text": [
            "[[6. 6.]\n",
            " [5. 5.]\n",
            " [6. 7.]\n",
            " [5. 6.]\n",
            " [6. 5.]\n",
            " [5. 6.]\n",
            " [5. 5.]\n",
            " [6. 6.]\n",
            " [5. 4.]\n",
            " [5. 5.]\n",
            " [5. 5.]\n",
            " [6. 5.]\n",
            " [6. 6.]\n",
            " [6. 5.]\n",
            " [6. 6.]\n",
            " [6. 6.]\n",
            " [7. 7.]\n",
            " [6. 5.]\n",
            " [6. 5.]\n",
            " [5. 4.]\n",
            " [6. 7.]\n",
            " [5. 6.]\n",
            " [6. 6.]\n",
            " [6. 4.]\n",
            " [5. 6.]\n",
            " [5. 5.]\n",
            " [5. 5.]\n",
            " [6. 7.]\n",
            " [5. 5.]\n",
            " [7. 6.]\n",
            " [6. 5.]\n",
            " [6. 6.]\n",
            " [6. 5.]\n",
            " [5. 6.]\n",
            " [6. 7.]\n",
            " [6. 7.]\n",
            " [5. 5.]\n",
            " [5. 6.]\n",
            " [6. 6.]\n",
            " [6. 7.]\n",
            " [5. 5.]\n",
            " [6. 7.]\n",
            " [7. 6.]\n",
            " [6. 6.]\n",
            " [6. 5.]\n",
            " [5. 5.]\n",
            " [5. 6.]\n",
            " [6. 6.]\n",
            " [6. 6.]\n",
            " [6. 5.]\n",
            " [5. 5.]\n",
            " [5. 5.]\n",
            " [6. 6.]\n",
            " [6. 6.]\n",
            " [5. 6.]\n",
            " [6. 5.]\n",
            " [5. 5.]\n",
            " [5. 5.]\n",
            " [6. 6.]\n",
            " [5. 5.]\n",
            " [5. 5.]\n",
            " [6. 6.]\n",
            " [6. 6.]\n",
            " [6. 6.]\n",
            " [5. 5.]\n",
            " [6. 6.]\n",
            " [6. 5.]\n",
            " [6. 5.]\n",
            " [6. 6.]\n",
            " [6. 6.]\n",
            " [6. 6.]\n",
            " [5. 6.]\n",
            " [5. 4.]\n",
            " [6. 6.]\n",
            " [6. 5.]\n",
            " [6. 6.]\n",
            " [5. 5.]\n",
            " [5. 5.]\n",
            " [6. 5.]\n",
            " [6. 6.]\n",
            " [6. 6.]\n",
            " [5. 5.]\n",
            " [6. 6.]\n",
            " [6. 6.]\n",
            " [6. 6.]\n",
            " [6. 5.]\n",
            " [6. 6.]\n",
            " [5. 5.]\n",
            " [5. 5.]\n",
            " [5. 5.]\n",
            " [5. 5.]\n",
            " [5. 6.]\n",
            " [6. 4.]\n",
            " [5. 5.]\n",
            " [6. 7.]\n",
            " [6. 6.]\n",
            " [6. 6.]\n",
            " [5. 5.]\n",
            " [5. 6.]\n",
            " [5. 5.]\n",
            " [6. 8.]\n",
            " [6. 6.]\n",
            " [6. 6.]\n",
            " [6. 6.]\n",
            " [6. 5.]\n",
            " [5. 5.]\n",
            " [6. 5.]\n",
            " [5. 5.]\n",
            " [6. 7.]\n",
            " [5. 5.]\n",
            " [6. 6.]\n",
            " [5. 5.]\n",
            " [6. 7.]\n",
            " [5. 5.]\n",
            " [6. 6.]\n",
            " [5. 6.]\n",
            " [5. 6.]\n",
            " [6. 7.]\n",
            " [6. 6.]\n",
            " [6. 6.]\n",
            " [5. 5.]\n",
            " [6. 7.]\n",
            " [5. 5.]\n",
            " [5. 5.]\n",
            " [7. 6.]\n",
            " [6. 6.]\n",
            " [5. 5.]\n",
            " [5. 5.]\n",
            " [6. 5.]\n",
            " [6. 6.]\n",
            " [5. 6.]\n",
            " [5. 6.]\n",
            " [6. 6.]\n",
            " [6. 6.]\n",
            " [6. 6.]\n",
            " [5. 5.]\n",
            " [5. 6.]\n",
            " [5. 5.]\n",
            " [5. 8.]\n",
            " [5. 5.]\n",
            " [7. 6.]\n",
            " [5. 5.]\n",
            " [5. 6.]\n",
            " [5. 5.]\n",
            " [5. 4.]\n",
            " [5. 6.]\n",
            " [6. 7.]\n",
            " [6. 6.]\n",
            " [6. 5.]\n",
            " [5. 6.]\n",
            " [6. 6.]\n",
            " [6. 5.]\n",
            " [5. 5.]\n",
            " [6. 5.]\n",
            " [5. 6.]\n",
            " [6. 6.]\n",
            " [5. 3.]\n",
            " [5. 6.]\n",
            " [6. 6.]\n",
            " [6. 6.]\n",
            " [6. 6.]\n",
            " [6. 6.]\n",
            " [6. 6.]\n",
            " [5. 6.]\n",
            " [6. 5.]\n",
            " [5. 5.]\n",
            " [6. 6.]\n",
            " [6. 6.]\n",
            " [6. 6.]\n",
            " [6. 6.]\n",
            " [6. 5.]\n",
            " [5. 5.]\n",
            " [5. 5.]\n",
            " [6. 8.]\n",
            " [6. 5.]\n",
            " [6. 6.]\n",
            " [6. 6.]\n",
            " [7. 7.]\n",
            " [7. 7.]\n",
            " [5. 5.]\n",
            " [5. 5.]\n",
            " [7. 7.]\n",
            " [6. 5.]\n",
            " [6. 6.]\n",
            " [7. 6.]\n",
            " [5. 4.]\n",
            " [5. 5.]\n",
            " [6. 6.]\n",
            " [5. 5.]\n",
            " [6. 5.]\n",
            " [6. 6.]\n",
            " [6. 5.]\n",
            " [5. 6.]\n",
            " [5. 6.]\n",
            " [5. 5.]\n",
            " [5. 5.]\n",
            " [5. 5.]\n",
            " [5. 5.]\n",
            " [5. 5.]\n",
            " [5. 5.]\n",
            " [5. 5.]\n",
            " [6. 6.]\n",
            " [5. 6.]\n",
            " [5. 5.]\n",
            " [6. 6.]\n",
            " [5. 6.]\n",
            " [5. 5.]\n",
            " [6. 6.]\n",
            " [6. 7.]\n",
            " [5. 6.]\n",
            " [6. 6.]\n",
            " [6. 6.]\n",
            " [5. 5.]\n",
            " [7. 5.]\n",
            " [5. 5.]\n",
            " [5. 6.]\n",
            " [5. 5.]\n",
            " [6. 6.]\n",
            " [6. 6.]\n",
            " [5. 5.]\n",
            " [5. 5.]\n",
            " [6. 5.]\n",
            " [6. 6.]\n",
            " [5. 6.]\n",
            " [5. 5.]\n",
            " [6. 6.]\n",
            " [6. 6.]\n",
            " [6. 6.]\n",
            " [5. 3.]\n",
            " [5. 6.]\n",
            " [5. 5.]\n",
            " [6. 5.]\n",
            " [6. 7.]\n",
            " [6. 6.]\n",
            " [6. 7.]\n",
            " [6. 6.]\n",
            " [6. 6.]\n",
            " [6. 7.]\n",
            " [7. 7.]\n",
            " [6. 6.]\n",
            " [5. 5.]\n",
            " [6. 6.]\n",
            " [5. 5.]\n",
            " [5. 5.]\n",
            " [6. 6.]\n",
            " [5. 5.]\n",
            " [5. 5.]\n",
            " [6. 5.]\n",
            " [5. 5.]\n",
            " [6. 6.]\n",
            " [5. 5.]\n",
            " [6. 5.]\n",
            " [5. 5.]\n",
            " [6. 6.]\n",
            " [5. 6.]\n",
            " [5. 5.]\n",
            " [5. 5.]\n",
            " [5. 5.]\n",
            " [5. 6.]\n",
            " [5. 7.]\n",
            " [5. 5.]\n",
            " [7. 6.]\n",
            " [5. 5.]\n",
            " [5. 6.]\n",
            " [5. 5.]\n",
            " [5. 4.]\n",
            " [6. 5.]\n",
            " [5. 5.]\n",
            " [5. 6.]\n",
            " [6. 7.]\n",
            " [5. 6.]\n",
            " [5. 5.]\n",
            " [6. 5.]\n",
            " [7. 4.]\n",
            " [6. 5.]\n",
            " [6. 6.]\n",
            " [6. 7.]\n",
            " [5. 6.]\n",
            " [6. 6.]\n",
            " [6. 7.]\n",
            " [5. 5.]\n",
            " [6. 7.]\n",
            " [5. 5.]\n",
            " [6. 6.]\n",
            " [5. 6.]\n",
            " [5. 5.]\n",
            " [6. 5.]\n",
            " [5. 5.]\n",
            " [6. 6.]\n",
            " [5. 6.]\n",
            " [6. 5.]\n",
            " [6. 6.]\n",
            " [6. 6.]\n",
            " [5. 6.]\n",
            " [5. 5.]\n",
            " [6. 6.]\n",
            " [6. 6.]\n",
            " [5. 5.]\n",
            " [5. 6.]\n",
            " [5. 5.]\n",
            " [6. 6.]\n",
            " [6. 5.]\n",
            " [5. 6.]\n",
            " [6. 6.]\n",
            " [6. 6.]\n",
            " [6. 6.]\n",
            " [6. 5.]\n",
            " [5. 5.]\n",
            " [5. 6.]\n",
            " [5. 5.]\n",
            " [6. 5.]\n",
            " [6. 6.]\n",
            " [5. 5.]\n",
            " [5. 5.]\n",
            " [5. 5.]\n",
            " [6. 6.]\n",
            " [6. 4.]\n",
            " [6. 5.]\n",
            " [5. 4.]\n",
            " [6. 6.]]\n"
          ]
        }
      ]
    },
    {
      "cell_type": "markdown",
      "metadata": {
        "id": "aYMmEocdQQJy"
      },
      "source": [
        "#Plotting"
      ]
    },
    {
      "cell_type": "code",
      "metadata": {
        "colab": {
          "base_uri": "https://localhost:8080/",
          "height": 295
        },
        "id": "mvwfh1AIQSNt",
        "outputId": "3df9e663-e93c-49d5-cd7c-2a40f166fdbf"
      },
      "source": [
        "plt.scatter(X_test, y_test, color = 'red')\n",
        "plt.plot(X_test, regression.predict(X_test), color = 'blue' )\n",
        "plt.title('Predict wine quality based on achohol level')\n",
        "plt.xlabel('achocol level')\n",
        "plt.ylabel('wine quality')\n",
        "plt.show()"
      ],
      "execution_count": 56,
      "outputs": [
        {
          "output_type": "display_data",
          "data": {
            "image/png": "[encoded data removed]",
            "text/plain": [
              "<Figure size 432x288 with 1 Axes>"
            ]
          },
          "metadata": {
            "needs_background": "light"
          }
        }
      ]
    },
    {
      "cell_type": "markdown",
      "metadata": {
        "id": "eIraB7zNSHK1"
      },
      "source": [
        "#R2 score"
      ]
    },
    {
      "cell_type": "code",
      "metadata": {
        "colab": {
          "base_uri": "https://localhost:8080/"
        },
        "id": "3D84JvWZR8e9",
        "outputId": "35bbf876-9b23-4c34-de6b-980769a5f3bf"
      },
      "source": [
        "from sklearn.metrics import r2_score\n",
        "r2_score(y_test, y_pred)"
      ],
      "execution_count": 58,
      "outputs": [
        {
          "output_type": "execute_result",
          "data": {
            "text/plain": [
              "0.2375724715130576"
            ]
          },
          "metadata": {},
          "execution_count": 58
        }
      ]
    }
  ]
}