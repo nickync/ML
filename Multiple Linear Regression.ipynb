{
  "nbformat": 4,
  "nbformat_minor": 0,
  "metadata": {
    "colab": {
      "name": "Untitled2.ipynb",
      "provenance": [],
      "authorship_tag": "ABX9TyOdKZ9jGPPASSRujPzNXEZ9",
      "include_colab_link": true
    },
    "kernelspec": {
      "name": "python3",
      "display_name": "Python 3"
    },
    "language_info": {
      "name": "python"
    }
  },
  "cells": [
    {
      "cell_type": "markdown",
      "metadata": {
        "id": "view-in-github",
        "colab_type": "text"
      },
      "source": [
        "<a href=\"https://colab.research.google.com/github/nickync/ML/blob/Regression/Multiple%20Linear%20Regression.ipynb\" target=\"_parent\"><img src=\"https://colab.research.google.com/assets/colab-badge.svg\" alt=\"Open In Colab\"/></a>"
      ]
    },
    {
      "cell_type": "markdown",
      "metadata": {
        "id": "rMrTPWUz3oDn"
      },
      "source": [
        "#Import library"
      ]
    },
    {
      "cell_type": "code",
      "metadata": {
        "id": "nZonwUYV3qh6"
      },
      "source": [
        "import numpy as np\n",
        "import pandas as pd\n",
        "import matplotlib.pyplot as plt"
      ],
      "execution_count": 3,
      "outputs": []
    },
    {
      "cell_type": "markdown",
      "metadata": {
        "id": "FYJiUKkV3v_l"
      },
      "source": [
        "#Load Dataset"
      ]
    },
    {
      "cell_type": "code",
      "metadata": {
        "id": "6M-OfW813zwM"
      },
      "source": [
        "dataset = pd.read_csv('winequality-red.csv')\n",
        "X = dataset.iloc[:, :-1].values\n",
        "y = dataset.iloc[:, -1].values"
      ],
      "execution_count": 5,
      "outputs": []
    },
    {
      "cell_type": "markdown",
      "metadata": {
        "id": "f1Df4kC44NIq"
      },
      "source": [
        "#Splitting the dataset"
      ]
    },
    {
      "cell_type": "code",
      "metadata": {
        "id": "ohz9DNNY4VYW"
      },
      "source": [
        "from sklearn.model_selection import train_test_split\n",
        "X_train, X_test, y_train, y_test = train_test_split(X, y, test_size = 0.2, random_state = 0)"
      ],
      "execution_count": 6,
      "outputs": []
    },
    {
      "cell_type": "markdown",
      "metadata": {
        "id": "Zupb4FxP4tqu"
      },
      "source": [
        "#Feature Scaling"
      ]
    },
    {
      "cell_type": "code",
      "metadata": {
        "id": "0EB-NJje4xH0"
      },
      "source": [
        "#Not required"
      ],
      "execution_count": null,
      "outputs": []
    },
    {
      "cell_type": "markdown",
      "metadata": {
        "id": "yUaLvwX94zlx"
      },
      "source": [
        "#Train regression"
      ]
    },
    {
      "cell_type": "code",
      "metadata": {
        "colab": {
          "base_uri": "https://localhost:8080/"
        },
        "id": "7E52RCOv434m",
        "outputId": "19694f44-38da-45e8-aeac-596d8e9a9f0e"
      },
      "source": [
        "from sklearn.linear_model import LinearRegression\n",
        "regression = LinearRegression()\n",
        "regression.fit(X_train, y_train)"
      ],
      "execution_count": 8,
      "outputs": [
        {
          "output_type": "execute_result",
          "data": {
            "text/plain": [
              "LinearRegression(copy_X=True, fit_intercept=True, n_jobs=None, normalize=False)"
            ]
          },
          "metadata": {},
          "execution_count": 8
        }
      ]
    },
    {
      "cell_type": "markdown",
      "metadata": {
        "id": "M_keB0GX5DdD"
      },
      "source": [
        "#Predicting test set "
      ]
    },
    {
      "cell_type": "markdown",
      "metadata": {
        "id": "f89Tq1UUGYf6"
      },
      "source": [
        ""
      ]
    },
    {
      "cell_type": "code",
      "metadata": {
        "colab": {
          "base_uri": "https://localhost:8080/"
        },
        "id": "7HdSUE5O5KfX",
        "outputId": "f3c250b9-c972-4c8c-d484-8fa375eff865"
      },
      "source": [
        "y_pred = regression.predict(X_test)\n",
        "np.set_printoptions(precision=0)\n",
        "print(np.concatenate((y_pred.reshape(len(y_pred), 1), y_test.reshape(len(y_test),1)),1))\n"
      ],
      "execution_count": 9,
      "outputs": [
        {
          "output_type": "stream",
          "name": "stdout",
          "text": [
            "[[6. 6.]\n",
            " [5. 5.]\n",
            " [7. 7.]\n",
            " [5. 6.]\n",
            " [6. 5.]\n",
            " [5. 6.]\n",
            " [5. 5.]\n",
            " [6. 6.]\n",
            " [5. 4.]\n",
            " [5. 5.]\n",
            " [5. 5.]\n",
            " [5. 5.]\n",
            " [6. 6.]\n",
            " [5. 5.]\n",
            " [6. 6.]\n",
            " [6. 6.]\n",
            " [7. 7.]\n",
            " [6. 5.]\n",
            " [6. 5.]\n",
            " [5. 4.]\n",
            " [6. 7.]\n",
            " [5. 6.]\n",
            " [6. 6.]\n",
            " [6. 4.]\n",
            " [5. 6.]\n",
            " [5. 5.]\n",
            " [5. 5.]\n",
            " [6. 7.]\n",
            " [5. 5.]\n",
            " [6. 6.]\n",
            " [6. 5.]\n",
            " [6. 6.]\n",
            " [6. 5.]\n",
            " [5. 6.]\n",
            " [6. 7.]\n",
            " [6. 7.]\n",
            " [5. 5.]\n",
            " [5. 6.]\n",
            " [6. 6.]\n",
            " [6. 7.]\n",
            " [5. 5.]\n",
            " [6. 7.]\n",
            " [7. 6.]\n",
            " [7. 6.]\n",
            " [6. 5.]\n",
            " [5. 5.]\n",
            " [5. 6.]\n",
            " [6. 6.]\n",
            " [5. 6.]\n",
            " [6. 5.]\n",
            " [5. 5.]\n",
            " [5. 5.]\n",
            " [6. 6.]\n",
            " [6. 6.]\n",
            " [6. 6.]\n",
            " [5. 5.]\n",
            " [5. 5.]\n",
            " [5. 5.]\n",
            " [7. 6.]\n",
            " [5. 5.]\n",
            " [5. 5.]\n",
            " [6. 6.]\n",
            " [6. 6.]\n",
            " [6. 6.]\n",
            " [5. 5.]\n",
            " [6. 6.]\n",
            " [5. 5.]\n",
            " [6. 5.]\n",
            " [6. 6.]\n",
            " [6. 6.]\n",
            " [5. 6.]\n",
            " [5. 6.]\n",
            " [5. 4.]\n",
            " [6. 6.]\n",
            " [6. 5.]\n",
            " [6. 6.]\n",
            " [5. 5.]\n",
            " [5. 5.]\n",
            " [6. 5.]\n",
            " [6. 6.]\n",
            " [6. 6.]\n",
            " [5. 5.]\n",
            " [6. 6.]\n",
            " [6. 6.]\n",
            " [6. 6.]\n",
            " [5. 5.]\n",
            " [6. 6.]\n",
            " [5. 5.]\n",
            " [5. 5.]\n",
            " [5. 5.]\n",
            " [5. 5.]\n",
            " [5. 6.]\n",
            " [6. 4.]\n",
            " [5. 5.]\n",
            " [6. 7.]\n",
            " [5. 6.]\n",
            " [6. 6.]\n",
            " [5. 5.]\n",
            " [5. 6.]\n",
            " [6. 5.]\n",
            " [7. 8.]\n",
            " [6. 6.]\n",
            " [6. 6.]\n",
            " [6. 6.]\n",
            " [6. 5.]\n",
            " [5. 5.]\n",
            " [6. 5.]\n",
            " [5. 5.]\n",
            " [6. 7.]\n",
            " [5. 5.]\n",
            " [6. 6.]\n",
            " [5. 5.]\n",
            " [6. 7.]\n",
            " [5. 5.]\n",
            " [6. 6.]\n",
            " [6. 6.]\n",
            " [6. 6.]\n",
            " [6. 7.]\n",
            " [6. 6.]\n",
            " [6. 6.]\n",
            " [5. 5.]\n",
            " [6. 7.]\n",
            " [5. 5.]\n",
            " [5. 5.]\n",
            " [6. 6.]\n",
            " [6. 6.]\n",
            " [5. 5.]\n",
            " [5. 5.]\n",
            " [6. 5.]\n",
            " [6. 6.]\n",
            " [5. 6.]\n",
            " [5. 6.]\n",
            " [6. 6.]\n",
            " [6. 6.]\n",
            " [6. 6.]\n",
            " [5. 5.]\n",
            " [6. 6.]\n",
            " [5. 5.]\n",
            " [6. 8.]\n",
            " [5. 5.]\n",
            " [6. 6.]\n",
            " [5. 5.]\n",
            " [5. 6.]\n",
            " [5. 5.]\n",
            " [6. 4.]\n",
            " [6. 6.]\n",
            " [6. 7.]\n",
            " [6. 6.]\n",
            " [6. 5.]\n",
            " [5. 6.]\n",
            " [6. 6.]\n",
            " [6. 5.]\n",
            " [5. 5.]\n",
            " [6. 5.]\n",
            " [6. 6.]\n",
            " [5. 6.]\n",
            " [5. 3.]\n",
            " [5. 6.]\n",
            " [6. 6.]\n",
            " [6. 6.]\n",
            " [6. 6.]\n",
            " [6. 6.]\n",
            " [6. 6.]\n",
            " [5. 6.]\n",
            " [6. 5.]\n",
            " [5. 5.]\n",
            " [6. 6.]\n",
            " [6. 6.]\n",
            " [5. 6.]\n",
            " [6. 6.]\n",
            " [6. 5.]\n",
            " [6. 5.]\n",
            " [5. 5.]\n",
            " [7. 8.]\n",
            " [6. 5.]\n",
            " [6. 6.]\n",
            " [6. 6.]\n",
            " [7. 7.]\n",
            " [6. 7.]\n",
            " [5. 5.]\n",
            " [5. 5.]\n",
            " [7. 7.]\n",
            " [5. 5.]\n",
            " [6. 6.]\n",
            " [7. 6.]\n",
            " [5. 4.]\n",
            " [6. 5.]\n",
            " [6. 6.]\n",
            " [5. 5.]\n",
            " [6. 5.]\n",
            " [6. 6.]\n",
            " [6. 5.]\n",
            " [5. 6.]\n",
            " [5. 6.]\n",
            " [5. 5.]\n",
            " [5. 5.]\n",
            " [5. 5.]\n",
            " [5. 5.]\n",
            " [5. 5.]\n",
            " [5. 5.]\n",
            " [5. 5.]\n",
            " [6. 6.]\n",
            " [5. 6.]\n",
            " [5. 5.]\n",
            " [5. 6.]\n",
            " [5. 6.]\n",
            " [5. 5.]\n",
            " [6. 6.]\n",
            " [6. 7.]\n",
            " [5. 6.]\n",
            " [6. 6.]\n",
            " [6. 6.]\n",
            " [5. 5.]\n",
            " [6. 5.]\n",
            " [5. 5.]\n",
            " [5. 6.]\n",
            " [6. 5.]\n",
            " [6. 6.]\n",
            " [6. 6.]\n",
            " [5. 5.]\n",
            " [5. 5.]\n",
            " [6. 5.]\n",
            " [6. 6.]\n",
            " [6. 6.]\n",
            " [5. 5.]\n",
            " [6. 6.]\n",
            " [6. 6.]\n",
            " [6. 6.]\n",
            " [5. 3.]\n",
            " [5. 6.]\n",
            " [5. 5.]\n",
            " [6. 5.]\n",
            " [5. 7.]\n",
            " [6. 6.]\n",
            " [6. 7.]\n",
            " [6. 6.]\n",
            " [6. 6.]\n",
            " [7. 7.]\n",
            " [7. 7.]\n",
            " [6. 6.]\n",
            " [5. 5.]\n",
            " [5. 6.]\n",
            " [5. 5.]\n",
            " [5. 5.]\n",
            " [6. 6.]\n",
            " [5. 5.]\n",
            " [6. 5.]\n",
            " [5. 5.]\n",
            " [5. 5.]\n",
            " [6. 6.]\n",
            " [5. 5.]\n",
            " [5. 5.]\n",
            " [5. 5.]\n",
            " [5. 6.]\n",
            " [6. 6.]\n",
            " [6. 5.]\n",
            " [5. 5.]\n",
            " [5. 5.]\n",
            " [5. 6.]\n",
            " [6. 7.]\n",
            " [5. 5.]\n",
            " [7. 6.]\n",
            " [5. 5.]\n",
            " [6. 6.]\n",
            " [5. 5.]\n",
            " [5. 4.]\n",
            " [5. 5.]\n",
            " [5. 5.]\n",
            " [6. 6.]\n",
            " [6. 7.]\n",
            " [6. 6.]\n",
            " [6. 5.]\n",
            " [6. 5.]\n",
            " [6. 4.]\n",
            " [6. 5.]\n",
            " [6. 6.]\n",
            " [6. 7.]\n",
            " [5. 6.]\n",
            " [7. 6.]\n",
            " [6. 7.]\n",
            " [5. 5.]\n",
            " [7. 7.]\n",
            " [6. 5.]\n",
            " [6. 6.]\n",
            " [6. 6.]\n",
            " [5. 5.]\n",
            " [6. 5.]\n",
            " [5. 5.]\n",
            " [6. 6.]\n",
            " [6. 6.]\n",
            " [6. 5.]\n",
            " [5. 6.]\n",
            " [6. 6.]\n",
            " [5. 6.]\n",
            " [5. 5.]\n",
            " [6. 6.]\n",
            " [6. 6.]\n",
            " [5. 5.]\n",
            " [5. 6.]\n",
            " [5. 5.]\n",
            " [6. 6.]\n",
            " [5. 5.]\n",
            " [5. 6.]\n",
            " [6. 6.]\n",
            " [6. 6.]\n",
            " [6. 6.]\n",
            " [5. 5.]\n",
            " [5. 5.]\n",
            " [6. 6.]\n",
            " [5. 5.]\n",
            " [6. 5.]\n",
            " [6. 6.]\n",
            " [5. 5.]\n",
            " [5. 5.]\n",
            " [5. 5.]\n",
            " [7. 6.]\n",
            " [6. 4.]\n",
            " [6. 5.]\n",
            " [5. 4.]\n",
            " [6. 6.]]\n"
          ]
        }
      ]
    },
    {
      "cell_type": "markdown",
      "metadata": {
        "id": "g34MZESBS7j2"
      },
      "source": [
        "#Plotting "
      ]
    },
    {
      "cell_type": "code",
      "metadata": {
        "id": "jhSi0NdWS_rC"
      },
      "source": [
        "#3D Plotting, Plotly"
      ],
      "execution_count": 1,
      "outputs": []
    },
    {
      "cell_type": "markdown",
      "metadata": {
        "id": "eWmfawgBTKDj"
      },
      "source": [
        "#R2 score"
      ]
    },
    {
      "cell_type": "code",
      "metadata": {
        "id": "tloWEb8hTLjh",
        "outputId": "00f8f795-0c9c-443d-eda0-66e22c0bd41b",
        "colab": {
          "base_uri": "https://localhost:8080/"
        }
      },
      "source": [
        "from sklearn.metrics import r2_score\n",
        "r2_score(y_test, y_pred)"
      ],
      "execution_count": 10,
      "outputs": [
        {
          "output_type": "execute_result",
          "data": {
            "text/plain": [
              "0.328388763958144"
            ]
          },
          "metadata": {},
          "execution_count": 10
        }
      ]
    }
  ]
}