{
  "nbformat": 4,
  "nbformat_minor": 0,
  "metadata": {
    "colab": {
      "name": "Logistic Regression.ipynb",
      "provenance": [],
      "authorship_tag": "ABX9TyO6zFjiOJoGq+QFlWR0c4cR",
      "include_colab_link": true
    },
    "kernelspec": {
      "name": "python3",
      "display_name": "Python 3"
    },
    "language_info": {
      "name": "python"
    }
  },
  "cells": [
    {
      "cell_type": "markdown",
      "metadata": {
        "id": "view-in-github",
        "colab_type": "text"
      },
      "source": [
        "<a href=\"https://colab.research.google.com/github/nickync/ML/blob/Classification/Logistic_Regression.ipynb\" target=\"_parent\"><img src=\"https://colab.research.google.com/assets/colab-badge.svg\" alt=\"Open In Colab\"/></a>"
      ]
    },
    {
      "cell_type": "markdown",
      "metadata": {
        "id": "RnFSyV6cDhva"
      },
      "source": [
        "#Import libraries"
      ]
    },
    {
      "cell_type": "code",
      "metadata": {
        "id": "N7W6WvmdDzLg"
      },
      "source": [
        "import numpy as np\n",
        "import pandas as pd\n",
        "import matplotlib.pyplot as plt"
      ],
      "execution_count": 26,
      "outputs": []
    },
    {
      "cell_type": "markdown",
      "metadata": {
        "id": "aznWzBYkD3bR"
      },
      "source": [
        "#Load dataset"
      ]
    },
    {
      "cell_type": "code",
      "metadata": {
        "id": "JiURoIhpD8hH"
      },
      "source": [
        "dataset = pd.read_csv('winequality-red.csv')\n",
        "X = dataset.iloc[:, :-1].values\n",
        "y = dataset.iloc[:, -1].values"
      ],
      "execution_count": 4,
      "outputs": []
    },
    {
      "cell_type": "markdown",
      "metadata": {
        "id": "uMYeMkj0EIsM"
      },
      "source": [
        "#Splitting the dataset"
      ]
    },
    {
      "cell_type": "code",
      "metadata": {
        "id": "Ga0507PXEKxF"
      },
      "source": [
        "from sklearn.model_selection import train_test_split\n",
        "X_train, X_test, y_train, y_test = train_test_split(X, y, test_size = 0.2, random_state = 0)"
      ],
      "execution_count": 5,
      "outputs": []
    },
    {
      "cell_type": "markdown",
      "metadata": {
        "id": "UZRqJM2sFMe8"
      },
      "source": [
        "#Feature scaling (column5,6)"
      ]
    },
    {
      "cell_type": "code",
      "metadata": {
        "colab": {
          "base_uri": "https://localhost:8080/"
        },
        "id": "2fUCy8MiFVNt",
        "outputId": "98b13310-6e5c-4be1-d572-4ad780c144a5"
      },
      "source": [
        "from sklearn.preprocessing import StandardScaler\n",
        "sc = StandardScaler()\n",
        "X_train[5:7] = sc.fit_transform(X_train[5:7])\n",
        "X_test[5:7] = sc.fit_transform(X_test[5:7])"
      ],
      "execution_count": 10,
      "outputs": [
        {
          "output_type": "stream",
          "name": "stdout",
          "text": [
            "[[10.8    0.47   0.43  ...  3.17   0.76  10.8  ]\n",
            " [ 8.1    0.82   0.    ...  3.36   0.53   9.6  ]\n",
            " [ 9.1    0.29   0.33  ...  3.26   0.84  11.7  ]\n",
            " ...\n",
            " [ 9.1    0.34   0.42  ...  3.18   0.55  11.4  ]\n",
            " [ 9.1    0.765  0.04  ...  3.29   0.54   9.7  ]\n",
            " [ 8.2    0.32   0.42  ...  3.27   0.55  12.3  ]]\n"
          ]
        }
      ]
    },
    {
      "cell_type": "markdown",
      "metadata": {
        "id": "coTJwMm_G2g6"
      },
      "source": [
        "#Train the Logistic Regression"
      ]
    },
    {
      "cell_type": "code",
      "metadata": {
        "colab": {
          "base_uri": "https://localhost:8080/"
        },
        "id": "Q6s1x7pgG5vB",
        "outputId": "118b5959-0734-4ddf-c480-d2e761551499"
      },
      "source": [
        "from sklearn.linear_model import LogisticRegression\n",
        "classifier = LogisticRegression(random_state = 0, max_iter=40000)\n",
        "classifier.fit(X_train, y_train)"
      ],
      "execution_count": 14,
      "outputs": [
        {
          "output_type": "execute_result",
          "data": {
            "text/plain": [
              "LogisticRegression(C=1.0, class_weight=None, dual=False, fit_intercept=True,\n",
              "                   intercept_scaling=1, l1_ratio=None, max_iter=40000,\n",
              "                   multi_class='auto', n_jobs=None, penalty='l2',\n",
              "                   random_state=0, solver='lbfgs', tol=0.0001, verbose=0,\n",
              "                   warm_start=False)"
            ]
          },
          "metadata": {},
          "execution_count": 14
        }
      ]
    },
    {
      "cell_type": "markdown",
      "metadata": {
        "id": "wxqbJbxtIWtF"
      },
      "source": [
        "#Predict the test set results"
      ]
    },
    {
      "cell_type": "code",
      "metadata": {
        "id": "wCJrc9gQIZcN"
      },
      "source": [
        "y_pred = classifier.predict(X_test)\n",
        "#print(np.concatenate((y_test.reshape(len(y_test),1), y_pred.reshape(len(y_pred),1)),1))"
      ],
      "execution_count": 19,
      "outputs": []
    },
    {
      "cell_type": "markdown",
      "metadata": {
        "id": "OpHLE7wDJr8j"
      },
      "source": [
        "#Stats"
      ]
    },
    {
      "cell_type": "code",
      "metadata": {
        "colab": {
          "base_uri": "https://localhost:8080/"
        },
        "id": "yqX3u5MyJv1Z",
        "outputId": "d7b7cc8e-830a-4ba9-cc27-6b7366146494"
      },
      "source": [
        "from sklearn.metrics import confusion_matrix, accuracy_score, hinge_loss, mean_squared_log_error\n",
        "cm = confusion_matrix(y_test, y_pred)\n",
        "print(cm)\n",
        "print('Accuracy_score:{}'.format(accuracy_score(y_test, y_pred)))\n",
        "print('MSLE: {}'.format(mean_squared_log_error(y_test, y_pred)))\n"
      ],
      "execution_count": 49,
      "outputs": [
        {
          "output_type": "stream",
          "name": "stdout",
          "text": [
            "[[  0   0   2   0   0   0]\n",
            " [  0   0   6   4   1   0]\n",
            " [  0   0 101  33   1   0]\n",
            " [  0   0  38  93  11   0]\n",
            " [  0   0   2  16   9   0]\n",
            " [  0   0   0   1   2   0]]\n",
            "Accuracy_score:0.634375\n",
            "MSLE: 0.011592986879913572\n"
          ]
        }
      ]
    }
  ]
}