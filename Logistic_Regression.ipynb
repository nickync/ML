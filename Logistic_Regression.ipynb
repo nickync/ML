{
  "nbformat": 4,
  "nbformat_minor": 0,
  "metadata": {
    "colab": {
      "name": "Logistic Regression.ipynb",
      "provenance": [],
      "authorship_tag": "ABX9TyP/E11JrIXd+GU+mFzoU7XA",
      "include_colab_link": true
    },
    "kernelspec": {
      "name": "python3",
      "display_name": "Python 3"
    },
    "language_info": {
      "name": "python"
    }
  },
  "cells": [
    {
      "cell_type": "markdown",
      "metadata": {
        "id": "view-in-github",
        "colab_type": "text"
      },
      "source": [
        "<a href=\"https://colab.research.google.com/github/nickync/Machine-Learning/blob/Classification/Logistic_Regression.ipynb\" target=\"_parent\"><img src=\"https://colab.research.google.com/assets/colab-badge.svg\" alt=\"Open In Colab\"/></a>"
      ]
    },
    {
      "cell_type": "markdown",
      "metadata": {
        "id": "RnFSyV6cDhva"
      },
      "source": [
        "#Import libraries"
      ]
    },
    {
      "cell_type": "code",
      "metadata": {
        "id": "N7W6WvmdDzLg"
      },
      "source": [
        "import numpy as np\n",
        "import pandas as pd\n",
        "import matplotlib.pyplot as plt"
      ],
      "execution_count": 1,
      "outputs": []
    },
    {
      "cell_type": "markdown",
      "metadata": {
        "id": "aznWzBYkD3bR"
      },
      "source": [
        "#Load dataset"
      ]
    },
    {
      "cell_type": "code",
      "metadata": {
        "id": "JiURoIhpD8hH"
      },
      "source": [
        "dataset = pd.read_csv('winequality-red.csv')\n",
        "X = dataset.iloc[:, :-1].values\n",
        "y = dataset.iloc[:, -1].values"
      ],
      "execution_count": 2,
      "outputs": []
    },
    {
      "cell_type": "markdown",
      "metadata": {
        "id": "uMYeMkj0EIsM"
      },
      "source": [
        "#Splitting the dataset"
      ]
    },
    {
      "cell_type": "code",
      "metadata": {
        "id": "Ga0507PXEKxF"
      },
      "source": [
        "from sklearn.model_selection import train_test_split\n",
        "X_train, X_test, y_train, y_test = train_test_split(X, y, test_size = 0.2, random_state = 0)"
      ],
      "execution_count": 3,
      "outputs": []
    },
    {
      "cell_type": "markdown",
      "metadata": {
        "id": "UZRqJM2sFMe8"
      },
      "source": [
        "#Feature scaling"
      ]
    },
    {
      "cell_type": "code",
      "metadata": {
        "id": "2fUCy8MiFVNt"
      },
      "source": [
        "from sklearn.preprocessing import StandardScaler\n",
        "sc = StandardScaler()\n",
        "X_train = sc.fit_transform(X_train)\n",
        "X_test = sc.fit_transform(X_test)"
      ],
      "execution_count": 4,
      "outputs": []
    },
    {
      "cell_type": "markdown",
      "metadata": {
        "id": "coTJwMm_G2g6"
      },
      "source": [
        "#Train the Logistic Regression"
      ]
    },
    {
      "cell_type": "code",
      "metadata": {
        "colab": {
          "base_uri": "https://localhost:8080/"
        },
        "id": "Q6s1x7pgG5vB",
        "outputId": "65171d21-e4ef-4094-b357-2f859fecbeab"
      },
      "source": [
        "from sklearn.linear_model import LogisticRegression\n",
        "classifier = LogisticRegression(random_state = 0, max_iter=3000)\n",
        "classifier.fit(X_train, y_train)"
      ],
      "execution_count": 5,
      "outputs": [
        {
          "output_type": "execute_result",
          "data": {
            "text/plain": [
              "LogisticRegression(C=1.0, class_weight=None, dual=False, fit_intercept=True,\n",
              "                   intercept_scaling=1, l1_ratio=None, max_iter=3000,\n",
              "                   multi_class='auto', n_jobs=None, penalty='l2',\n",
              "                   random_state=0, solver='lbfgs', tol=0.0001, verbose=0,\n",
              "                   warm_start=False)"
            ]
          },
          "metadata": {},
          "execution_count": 5
        }
      ]
    },
    {
      "cell_type": "markdown",
      "metadata": {
        "id": "wxqbJbxtIWtF"
      },
      "source": [
        "#Predict the test set results"
      ]
    },
    {
      "cell_type": "code",
      "metadata": {
        "id": "wCJrc9gQIZcN"
      },
      "source": [
        "y_pred = classifier.predict(X_test)\n",
        "#print(np.concatenate((y_test.reshape(len(y_test),1), y_pred.reshape(len(y_pred),1)),1))"
      ],
      "execution_count": 6,
      "outputs": []
    },
    {
      "cell_type": "markdown",
      "metadata": {
        "id": "OpHLE7wDJr8j"
      },
      "source": [
        "#Stats"
      ]
    },
    {
      "cell_type": "code",
      "metadata": {
        "colab": {
          "base_uri": "https://localhost:8080/"
        },
        "id": "yqX3u5MyJv1Z",
        "outputId": "ef7b932b-413b-4487-fd5e-929d4759cb38"
      },
      "source": [
        "from sklearn.metrics import confusion_matrix, accuracy_score, hinge_loss, mean_squared_log_error\n",
        "cm = confusion_matrix(y_test, y_pred)\n",
        "print(cm)\n",
        "print('Accuracy_score:{}'.format(accuracy_score(y_test, y_pred)))\n",
        "print('MSLE: {}'.format(mean_squared_log_error(y_test, y_pred)))\n"
      ],
      "execution_count": 7,
      "outputs": [
        {
          "output_type": "stream",
          "name": "stdout",
          "text": [
            "[[  0   0   2   0   0   0]\n",
            " [  0   0   6   4   1   0]\n",
            " [  0   0 106  28   1   0]\n",
            " [  0   0  44  77  21   0]\n",
            " [  0   0   2  16   9   0]\n",
            " [  0   0   0   1   2   0]]\n",
            "Accuracy_score:0.6\n",
            "MSLE: 0.012224451755706228\n"
          ]
        }
      ]
    }
  ]
}